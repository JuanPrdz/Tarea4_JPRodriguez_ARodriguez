{
 "cells": [
  {
   "cell_type": "markdown",
   "id": "bb8ed80c",
   "metadata": {},
   "source": [
    "<img style=\"float: left; margin: 30px 15px 15px 15px;\" src=\"https://pngimage.net/wp-content/uploads/2018/06/logo-iteso-png-5.png\" width=\"300\" height=\"500\" /> \n",
    "    \n",
    "    \n",
    "### <font color='navy'> Simulación de procesos financieros. \n",
    "\n",
    "**Nombres:** Juan Pablo Rodríguez Alonso, Ana Esmeralda Rodríguez Rodríguez.\n",
    "\n",
    "**Fecha:** 11 de junio del 2021.\n",
    "\n",
    "**Expediente** : 715180, 709288.\n",
    "\n",
    "**Profesor:** Oscar David Jaramillo Zuluaga.\n",
    "    \n",
    "**Link Github**: [Link con el enlace del repositorio del creador del proyecto](https://github.com/JuanPrdz/Tarea4_JPRodriguez_ARodriguez)\n",
    "\n",
    "# Tarea 4: Clase 7"
   ]
  },
  {
   "cell_type": "markdown",
   "id": "4f3ef7f8",
   "metadata": {},
   "source": [
    "\n",
    "\n",
    "## Ejercicio 1\n",
    "Como ejemplo simple de una simulación de Monte Carlo, considere calcular la probabilidad de una suma particular del lanzamiento de tres dados (cada dado tiene valores del uno al seis). Además cada dado tiene las siguientes carácterísticas: el primer dado no está cargado (distribución uniforme todos son equiprobables); el segundo y tercer dado están cargados basados en una distribución binomial con parámetros (`n=5, p=0.5` y `n=5, p=0.2`). Calcule la probabilidad de que la suma resultante sea 7, 14 o 18. "
   ]
  },
  {
   "cell_type": "code",
   "execution_count": 1,
   "id": "1f6399d7",
   "metadata": {},
   "outputs": [],
   "source": [
    "import numpy as np\n",
    "import matplotlib.pyplot as plt\n",
    "import pandas as pd\n",
    "import os\n",
    "import scipy.stats as st\n",
    "import seaborn as sns\n",
    "sns.set()"
   ]
  },
  {
   "cell_type": "markdown",
   "id": "e5ff7190",
   "metadata": {},
   "source": [
    "#### Ejercicio 1: Estudiante 1 Juan Pablo Rodríguez Alonso"
   ]
  },
  {
   "cell_type": "code",
   "execution_count": 2,
   "id": "39da909f",
   "metadata": {},
   "outputs": [
    {
     "data": {
      "text/plain": [
       "[0.127451, 0.013755, 1e-06]"
      ]
     },
     "execution_count": 2,
     "metadata": {},
     "output_type": "execute_result"
    }
   ],
   "source": [
    "# Código de solución estudiante 1 Juan Pablo Rodríguez\n",
    "\n",
    "N = 1000000\n",
    "np.random.seed(22)\n",
    "d_no_cargado = np.random.randint(1,7, N)\n",
    "d_cargado_1 = st.binom(n=5, p=0.5, loc=1).rvs(size=N)\n",
    "d_cargado_2 = st.binom(n=5, p=0.2, loc=1).rvs(size=N)\n",
    "suma = d_no_cargado + d_cargado_1 + d_cargado_2\n",
    "\n",
    "resultantes = [7, 14, 18]\n",
    "[len(suma[suma == i])/len(suma) for i in resultantes]"
   ]
  },
  {
   "cell_type": "markdown",
   "id": "a52601d2",
   "metadata": {},
   "source": [
    "##### La probabilidad de que la suma de los dados sea:\n",
    "* 7 es de 0.1274\n",
    "* 14 es de 0.01375\n",
    "* 18 es de  1e-06"
   ]
  },
  {
   "cell_type": "markdown",
   "id": "1b0ef4cb",
   "metadata": {},
   "source": [
    "#### Ejercicio 1: Estudiante 2 Ana Esmeralda Rodríguez"
   ]
  },
  {
   "cell_type": "code",
   "execution_count": 3,
   "id": "7126bdb5",
   "metadata": {},
   "outputs": [],
   "source": [
    "# Código de solución estudiante 2 Ana Esmeralda Rodríguez\n"
   ]
  },
  {
   "cell_type": "markdown",
   "id": "211e3aed",
   "metadata": {},
   "source": []
  },
  {
   "cell_type": "markdown",
   "id": "91292b02",
   "metadata": {},
   "source": [
    "# 2 Ejercicio de aplicación- Cafetería Central\n",
    "\n",
    "Premisas para la simulación:\n",
    "- Negocio de alimentos que vende bebidas y alimentos.\n",
    "- Negocio dentro del ITESO.\n",
    "- Negocio en cafetería central.\n",
    "- Tipo de clientes (hombres y mujeres).\n",
    "- Rentabilidad del 60%.\n",
    "\n",
    "## Objetivo\n",
    "Realizar una simulación estimado el tiempo medio que se tardaran los clientes en ser atendidos entre el horario de 6:30 a 1 pm. Además saber el consumo. \n",
    "**Analizar supuestos y limitantes**\n",
    "## Supuestos en simulación\n",
    "Clasificación de clientes: \n",
    "- Mujer  = 1 $\\longrightarrow$ aleatorio < 0.5\n",
    "- Hombre = 0 $\\longrightarrow$ aleatorio $\\geq$ 0.5.\n",
    "\n",
    "Condiciones iniciales:\n",
    "- Todas las distrubuciones de probabilidad se supondrán uniformes.\n",
    "- Tiempo de simulación: 6:30 am - 1:30pm $\\longrightarrow$ T = 7 horas = 25200 seg.\n",
    "- Tiempo de llegada hasta ser atendido: Min=5seg, Max=30seg.\n",
    "- Tiempo que tardan los clientes en ser atendidos:\n",
    "    - Mujer: Min = 1 min= 60seg, Max = 5 min = 300 seg\n",
    "    - Hombre: Min = 40 seg, Max = 2 min= 120 seg\n",
    "- Consumo según el tipo de cliente:\n",
    "    - Mujer: Min = 30 pesos, Max = 100 pesos\n",
    "    - Hombre: Min = 20 pesos, Max = 80 pesos\n",
    "\n",
    "Responder las siguientes preguntas basados en los datos del problema:\n",
    "1. ¿Cuáles fueron los gastos de los hombres y las mujeres en 5 días de trabajo?.\n",
    "2. ¿Cuál fue el consumo promedio de los hombres y mujeres?\n",
    "3. ¿Cuál fue el número de personas atendidas por día?\n",
    "4. ¿Cuál fue el tiempo de atención promedio?\n",
    "5. ¿Cuánto fue la ganancia promedio de la cafetería en 5 días de trabajo y su respectiva rentabilidad?"
   ]
  },
  {
   "cell_type": "markdown",
   "id": "3c02b064",
   "metadata": {},
   "source": [
    "#### Ejercicio 2: Estudiante 1 Juan Pablo Rodríguez Alonso"
   ]
  },
  {
   "cell_type": "code",
   "execution_count": 4,
   "id": "83b3cbf0",
   "metadata": {},
   "outputs": [
    {
     "name": "stdout",
     "output_type": "stream",
     "text": [
      "1. Los gastos de hombres en los 5 días de trabajo fueron:  24181.151070486034  y los de las mujeres:  26682.341384487332\n",
      "2. El consumo promedio de los hombre fue:  52.114549720875075  y el de las mujeres:  64.60615347333494\n",
      "3. El número de personas atendidas por día fue de (cada día):  [181, 176, 173, 169, 178]\n",
      "4. El tiempo promedio de atención fue de:  145.113211468658  por día.\n",
      "5. La ganancia promedio con su rentabilidad del 60% en los 5 días de trabajo fue:  30518.095472984016\n"
     ]
    }
   ],
   "source": [
    "# Código de solución estudiante 1 Juan Pablo Rodríguez\n",
    "\n",
    "\n",
    "################## Datos del problema\n",
    "d = 5\n",
    "T =25200\n",
    "T_at_min = 5; T_at_max = 30\n",
    "T_mujer_min =60; T_mujer_max = 300\n",
    "T_hombre_min = 40; T_hombre_max = 120\n",
    "C_mujer_min = 30; C_mujer_max = 100\n",
    "C_hombre_min = 20; C_hombre_max = 80\n",
    "\n",
    "def hombre():\n",
    "    \"\"\"\"\n",
    "    Función que da un arreglo de un hombre, en la primera posición el tiempo que \n",
    "    va a ocupar, en la segunda posición su gasto en consumo\"\"\"\n",
    "    \n",
    "    return [np.random.uniform(T_hombre_min, T_hombre_max) + \n",
    "            np.random.uniform(T_at_min, T_at_max), np.random.uniform(C_hombre_min, C_hombre_max)]\n",
    "def mujer():\n",
    "    \"\"\"\"\n",
    "    Función que da un arreglo de una mujer, en la primera posición el tiempo que \n",
    "    va a ocupar, en la segunda posición su gasto en consumo\"\"\"\n",
    "    \n",
    "    return [np.random.uniform(T_mujer_min, T_mujer_max) + \n",
    "            np.random.uniform(T_at_min, T_at_max), np.random.uniform(C_mujer_min, C_mujer_max)]\n",
    "\n",
    "m_cons = []; h_cons = []\n",
    "c_c = 0; clientes = []\n",
    "\n",
    "#def cafe()\n",
    "for i in range(d):\n",
    "    t_total = 0\n",
    "    c_c = 0\n",
    "    while t_total<T:\n",
    "        sexo = np.random.rand()\n",
    "        if sexo < 0.5:\n",
    "            des = mujer()\n",
    "            m_cons.append(des[1])\n",
    "        else:\n",
    "            des = hombre()\n",
    "            h_cons.append(des[1])\n",
    "        c_c += 1\n",
    "        t_total = t_total + des[0]\n",
    "    clientes.append(c_c)\n",
    "        \n",
    "print(\"1. Los gastos de hombres en los 5 días de trabajo fueron: \", np.array(h_cons).sum(), \" y los de las mujeres: \", np.array(m_cons).sum())\n",
    "print(\"2. El consumo promedio de los hombre fue: \", np.array(h_cons).mean(), \" y el de las mujeres: \", np.array(m_cons).mean())\n",
    "print(\"3. El número de personas atendidas por día fue de (cada día): \", clientes)\n",
    "print(\"4. El tiempo promedio de atención fue de: \", (np.array(t_total)/np.array(clientes)).mean(), \" por día.\")\n",
    "print(\"5. La ganancia promedio con su rentabilidad del 60% en los 5 días de trabajo fue: \", np.array(h_cons).sum()*.6+np.array(m_cons).sum()*.6)"
   ]
  },
  {
   "cell_type": "markdown",
   "id": "4560d6e0",
   "metadata": {},
   "source": [
    "#### Ejercicio 2: Estudiante 2 Ana Esmeralda Rodríguez"
   ]
  },
  {
   "cell_type": "code",
   "execution_count": 5,
   "id": "98308548",
   "metadata": {},
   "outputs": [],
   "source": [
    "# Código de solución estudiante 2 Ana Esmeralda Rodríguez\n"
   ]
  }
 ],
 "metadata": {
  "kernelspec": {
   "display_name": "Python 3",
   "language": "python",
   "name": "python3"
  },
  "language_info": {
   "codemirror_mode": {
    "name": "ipython",
    "version": 3
   },
   "file_extension": ".py",
   "mimetype": "text/x-python",
   "name": "python",
   "nbconvert_exporter": "python",
   "pygments_lexer": "ipython3",
   "version": "3.8.8"
  }
 },
 "nbformat": 4,
 "nbformat_minor": 5
}
