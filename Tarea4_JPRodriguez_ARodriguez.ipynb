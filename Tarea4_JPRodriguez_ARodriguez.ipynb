{
 "cells": [
  {
   "cell_type": "markdown",
   "metadata": {},
   "source": [
    "<img style=\"float: left; margin: 30px 15px 15px 15px;\" src=\"https://pngimage.net/wp-content/uploads/2018/06/logo-iteso-png-5.png\" width=\"300\" height=\"500\" /> \n",
    "    \n",
    "    \n",
    "### <font color='navy'> Simulación de procesos financieros. \n",
    "\n",
    "**Nombres:** Juan Pablo Rodríguez Alonso, Ana Esmeralda Rodríguez Rodríguez.\n",
    "\n",
    "**Fecha:** 11 de junio del 2021.\n",
    "\n",
    "**Expediente** : 715180, 709288.\n",
    "\n",
    "**Profesor:** Oscar David Jaramillo Zuluaga.\n",
    "    \n",
    "**Link Github**: [Link con el enlace del repositorio del creador del proyecto](https://github.com/JuanPrdz/Tarea4_JPRodriguez_ARodriguez)\n",
    "\n",
    "# Tarea 4: Clase 7"
   ]
  },
  {
   "cell_type": "markdown",
   "metadata": {},
   "source": [
    "\n",
    "\n",
    "## Ejercicio 1\n",
    "Como ejemplo simple de una simulación de Monte Carlo, considere calcular la probabilidad de una suma particular del lanzamiento de tres dados (cada dado tiene valores del uno al seis). Además cada dado tiene las siguientes carácterísticas: el primer dado no está cargado (distribución uniforme todos son equiprobables); el segundo y tercer dado están cargados basados en una distribución binomial con parámetros (`n=5, p=0.5` y `n=5, p=0.2`). Calcule la probabilidad de que la suma resultante sea 7, 14 o 18. "
   ]
  },
  {
   "cell_type": "code",
   "execution_count": 2,
   "metadata": {},
   "outputs": [],
   "source": [
    "import numpy as np\n",
    "import matplotlib.pyplot as plt\n",
    "import pandas as pd\n",
    "import os\n",
    "import scipy.stats as st\n",
    "import seaborn as sns\n",
    "sns.set()"
   ]
  },
  {
   "cell_type": "markdown",
   "metadata": {},
   "source": [
    "#### Ejercicio 1: Estudiante 1 Juan Pablo Rodríguez Alonso"
   ]
  },
  {
   "cell_type": "code",
   "execution_count": 3,
   "metadata": {},
   "outputs": [
    {
     "data": {
      "text/plain": [
       "[0.127451, 0.013755, 1e-06]"
      ]
     },
     "execution_count": 3,
     "metadata": {},
     "output_type": "execute_result"
    }
   ],
   "source": [
    "# Código de solución estudiante 1 Juan Pablo Rodríguez\n",
    "\n",
    "N = 1000000\n",
    "np.random.seed(22)\n",
    "d_no_cargado = np.random.randint(1,7, N)\n",
    "d_cargado_1 = st.binom(n=5, p=0.5, loc=1).rvs(size=N)\n",
    "d_cargado_2 = st.binom(n=5, p=0.2, loc=1).rvs(size=N)\n",
    "suma = d_no_cargado + d_cargado_1 + d_cargado_2\n",
    "\n",
    "resultantes = [7, 14, 18]\n",
    "[len(suma[suma == i])/len(suma) for i in resultantes]"
   ]
  },
  {
   "cell_type": "markdown",
   "metadata": {},
   "source": [
    "##### La probabilidad de que la suma de los dados sea:\n",
    "* 7 es de 0.1274\n",
    "* 14 es de 0.01375\n",
    "* 18 es de  1e-06"
   ]
  },
  {
   "cell_type": "markdown",
   "metadata": {},
   "source": [
    "#### Ejercicio 1: Estudiante 2 Ana Esmeralda Rodríguez"
   ]
  },
  {
   "cell_type": "code",
   "execution_count": 4,
   "metadata": {},
   "outputs": [
    {
     "data": {
      "text/plain": [
       "(0.16296, 0.00033, 0.0)"
      ]
     },
     "execution_count": 4,
     "metadata": {},
     "output_type": "execute_result"
    }
   ],
   "source": [
    "# Código de solución estudiante 2 Ana Esmeralda Rodríguez\n",
    "\n",
    "n = 100000\n",
    "# DADO 1 (NO CARGADO)\n",
    "dado1 = np.random.randint(1,7,n)\n",
    "# DADO 2 (CARGADO n=5, p=0.5)\n",
    "dado2 = st.binom(n=5, p=0.5).rvs(size=n)\n",
    "# DADO 3 (CARGADO  n=5, p=0.2)\n",
    "dado3 = st.binom(n=5, p=0.2).rvs(size=n)\n",
    "\n",
    "x = dado1 + dado2 + dado3\n",
    "suma_7 = (sum([(x == 7).sum()]))/n \n",
    "suma_14 = (sum([(x == 14).sum()]))/n\n",
    "suma_18 = (sum([(x == 18).sum()]))/n\n",
    "suma_7, suma_14, suma_18"
   ]
  },
  {
   "cell_type": "code",
   "execution_count": 5,
   "metadata": {},
   "outputs": [
    {
     "name": "stdout",
     "output_type": "stream",
     "text": [
      "La probabilidad de que la suma de los 3 dados sea 7 es de: 0.16296\n",
      "La probabilidad de que la suma de los 3 dados sea 14 es de: 0.00033\n",
      "La probabilidad de que la suma de los 3 dados sea 18 es de: 0.0\n"
     ]
    }
   ],
   "source": [
    "print(\"La probabilidad de que la suma de los 3 dados sea 7 es de:\", suma_7)\n",
    "print(\"La probabilidad de que la suma de los 3 dados sea 14 es de:\", suma_14)\n",
    "print(\"La probabilidad de que la suma de los 3 dados sea 18 es de:\", suma_18)"
   ]
  },
  {
   "cell_type": "markdown",
   "metadata": {},
   "source": [
    "# 2 Ejercicio de aplicación- Cafetería Central\n",
    "\n",
    "Premisas para la simulación:\n",
    "- Negocio de alimentos que vende bebidas y alimentos.\n",
    "- Negocio dentro del ITESO.\n",
    "- Negocio en cafetería central.\n",
    "- Tipo de clientes (hombres y mujeres).\n",
    "- Rentabilidad del 60%.\n",
    "\n",
    "## Objetivo\n",
    "Realizar una simulación estimado el tiempo medio que se tardaran los clientes en ser atendidos entre el horario de 6:30 a 1 pm. Además saber el consumo. \n",
    "**Analizar supuestos y limitantes**\n",
    "## Supuestos en simulación\n",
    "Clasificación de clientes: \n",
    "- Mujer  = 1 $\\longrightarrow$ aleatorio < 0.5\n",
    "- Hombre = 0 $\\longrightarrow$ aleatorio $\\geq$ 0.5.\n",
    "\n",
    "Condiciones iniciales:\n",
    "- Todas las distrubuciones de probabilidad se supondrán uniformes.\n",
    "- Tiempo de simulación: 6:30 am - 1:30pm $\\longrightarrow$ T = 7 horas = 25200 seg.\n",
    "- Tiempo de llegada hasta ser atendido: Min=5seg, Max=30seg.\n",
    "- Tiempo que tardan los clientes en ser atendidos:\n",
    "    - Mujer: Min = 1 min= 60seg, Max = 5 min = 300 seg\n",
    "    - Hombre: Min = 40 seg, Max = 2 min= 120 seg\n",
    "- Consumo según el tipo de cliente:\n",
    "    - Mujer: Min = 30 pesos, Max = 100 pesos\n",
    "    - Hombre: Min = 20 pesos, Max = 80 pesos\n",
    "\n",
    "Responder las siguientes preguntas basados en los datos del problema:\n",
    "1. ¿Cuáles fueron los gastos de los hombres y las mujeres en 5 días de trabajo?.\n",
    "2. ¿Cuál fue el consumo promedio de los hombres y mujeres?\n",
    "3. ¿Cuál fue el número de personas atendidas por día?\n",
    "4. ¿Cuál fue el tiempo de atención promedio?\n",
    "5. ¿Cuánto fue la ganancia promedio de la cafetería en 5 días de trabajo y su respectiva rentabilidad?"
   ]
  },
  {
   "cell_type": "markdown",
   "metadata": {},
   "source": [
    "#### Ejercicio 2: Estudiante 1 Juan Pablo Rodríguez Alonso"
   ]
  },
  {
   "cell_type": "code",
   "execution_count": 4,
   "metadata": {},
   "outputs": [
    {
     "name": "stdout",
     "output_type": "stream",
     "text": [
      "1. Los gastos de hombres en los 5 días de trabajo fueron:  24181.151070486034  y los de las mujeres:  26682.341384487332\n",
      "2. El consumo promedio de los hombre fue:  52.114549720875075  y el de las mujeres:  64.60615347333494\n",
      "3. El número de personas atendidas por día fue de (cada día):  [181, 176, 173, 169, 178]\n",
      "4. El tiempo promedio de atención fue de:  145.113211468658  por día.\n",
      "5. La ganancia promedio con su rentabilidad del 60% en los 5 días de trabajo fue:  30518.095472984016\n"
     ]
    }
   ],
   "source": [
    "# Código de solución estudiante 1 Juan Pablo Rodríguez\n",
    "\n",
    "\n",
    "################## Datos del problema\n",
    "d = 5\n",
    "T =25200\n",
    "T_at_min = 5; T_at_max = 30\n",
    "T_mujer_min =60; T_mujer_max = 300\n",
    "T_hombre_min = 40; T_hombre_max = 120\n",
    "C_mujer_min = 30; C_mujer_max = 100\n",
    "C_hombre_min = 20; C_hombre_max = 80\n",
    "\n",
    "def hombre():\n",
    "    \"\"\"\"\n",
    "    Función que da un arreglo de un hombre, en la primera posición el tiempo que \n",
    "    va a ocupar, en la segunda posición su gasto en consumo\"\"\"\n",
    "    \n",
    "    return [np.random.uniform(T_hombre_min, T_hombre_max) + \n",
    "            np.random.uniform(T_at_min, T_at_max), np.random.uniform(C_hombre_min, C_hombre_max)]\n",
    "def mujer():\n",
    "    \"\"\"\"\n",
    "    Función que da un arreglo de una mujer, en la primera posición el tiempo que \n",
    "    va a ocupar, en la segunda posición su gasto en consumo\"\"\"\n",
    "    \n",
    "    return [np.random.uniform(T_mujer_min, T_mujer_max) + \n",
    "            np.random.uniform(T_at_min, T_at_max), np.random.uniform(C_mujer_min, C_mujer_max)]\n",
    "\n",
    "m_cons = []; h_cons = []\n",
    "c_c = 0; clientes = []\n",
    "\n",
    "#def cafe()\n",
    "for i in range(d):\n",
    "    t_total = 0\n",
    "    c_c = 0\n",
    "    while t_total<T:\n",
    "        sexo = np.random.rand()\n",
    "        if sexo < 0.5:\n",
    "            des = mujer()\n",
    "            m_cons.append(des[1])\n",
    "        else:\n",
    "            des = hombre()\n",
    "            h_cons.append(des[1])\n",
    "        c_c += 1\n",
    "        t_total = t_total + des[0]\n",
    "    clientes.append(c_c)\n",
    "        \n",
    "print(\"1. Los gastos de hombres en los 5 días de trabajo fueron: \", np.array(h_cons).sum(), \" y los de las mujeres: \", np.array(m_cons).sum())\n",
    "print(\"2. El consumo promedio de los hombre fue: \", np.array(h_cons).mean(), \" y el de las mujeres: \", np.array(m_cons).mean())\n",
    "print(\"3. El número de personas atendidas por día fue de (cada día): \", clientes)\n",
    "print(\"4. El tiempo promedio de atención fue de: \", (np.array(t_total)/np.array(clientes)).mean(), \" por día.\")\n",
    "print(\"5. La ganancia promedio con su rentabilidad del 60% en los 5 días de trabajo fue: \", np.array(h_cons).sum()*.6+np.array(m_cons).sum()*.6)"
   ]
  },
  {
   "cell_type": "markdown",
   "metadata": {},
   "source": [
    "#### Ejercicio 2: Estudiante 2 Ana Esmeralda Rodríguez"
   ]
  },
  {
   "cell_type": "code",
   "execution_count": 8,
   "metadata": {},
   "outputs": [],
   "source": [
    "# Código de solución estudiante 2 Ana Esmeralda Rodríguez\n",
    "\n",
    "################## Datos del problema\n",
    "d = 5\n",
    "T =25200\n",
    "T_at_min = 5; T_at_max = 30\n",
    "T_mujer_min =60; T_mujer_max = 300\n",
    "T_hombre_min = 40; T_hombre_max = 120\n",
    "C_mujer_min = 30; C_mujer_max = 100\n",
    "C_hombre_min = 20; C_hombre_max = 80\n",
    "\n",
    "# SIMULACIÓN TIEMPO DE ESPERA ALEATORIO\n",
    "t_general = np.random.randint(T_at_min,T_at_max+1)\n",
    "t_mujer = np.random.randint(T_mujer_min,T_mujer_max+1)\n",
    "t_hombre = np.random.randint(T_hombre_min,T_hombre_max+1)\n",
    "# SIMULACIÓN CONSUMO ALEATORIO\n",
    "c_mujer = np.random.randint(C_mujer_min,C_mujer_max+1)\n",
    "c_hombre = np.random.randint(C_hombre_min,C_hombre_max+1)\n",
    "# SIMULACIÓN 200 CLIENTES ALEATORIOS (PARA EL GÉNERO)\n",
    "clientes = np.random.rand(200)"
   ]
  },
  {
   "cell_type": "code",
   "execution_count": 9,
   "metadata": {},
   "outputs": [],
   "source": [
    "T_atencion = []\n",
    "ganancia = []\n",
    "rentabilidad = []\n",
    "# Simulación de 1 día \n",
    "def sim1dia(clientes,T):\n",
    "    i = 0\n",
    "    t_atencion = 0 \n",
    "    cantidad_mujeres = 0 \n",
    "    cantidad_hombres = 0 \n",
    "    consumo_total_hombres = 0  \n",
    "    consumo_total_mujeres= 0  \n",
    "    while t_atencion <= T:\n",
    "        t_llegada = t_general\n",
    "        t_atencion += t_llegada\n",
    "        if clientes[i] < 0.5:\n",
    "            t_persona = t_mujer\n",
    "            t_atencion += t_persona\n",
    "            cantidad_mujeres += 1\n",
    "            consumo_total_mujeres += c_mujer\n",
    "        else:\n",
    "            t_persona = t_hombre\n",
    "            t_atencion += t_persona\n",
    "            cantidad_hombres += 1\n",
    "            consumo_total_hombres += c_hombre\n",
    "        \n",
    "        i += 1\n",
    "        T_atencion.append(t_persona)\n",
    "        ganancia.append((consumo_total_hombres+consumo_total_mujeres))\n",
    "        rentabilidad.append((consumo_total_hombres+consumo_total_mujeres)*0.6)\n",
    "    return np.array([cantidad_mujeres,cantidad_hombres,consumo_total_hombres,consumo_total_mujeres,\n",
    "                     i,(consumo_total_hombres+consumo_total_mujeres)*0.6])\n",
    "def dias_5(n:'Número de días'):\n",
    "    return [sim1dia(np.random.rand(200), T) for i in range(n)]\n",
    "\n",
    "sim5dias = dias_5(d)"
   ]
  },
  {
   "cell_type": "code",
   "execution_count": 22,
   "metadata": {},
   "outputs": [
    {
     "name": "stdout",
     "output_type": "stream",
     "text": [
      "1. Los gastos de los hombres en 5 días de trabajo fue de: 16896.0\n",
      "   y el de las mujeres de: 26599.0\n",
      "2. El consumo promedio de los hombres fue de: 44.0\n",
      "   y el de las mujeres de: 67.0\n",
      "3. El número de personas atendidas en un dia es de: 156.2\n",
      "4. El tiempo promedio de espra fue de: 153.94878361075544\n",
      "5. La ganancia promedio de la cafetería en 5 días fue de: 4342.623559539053\n",
      "   La rentabilidad promedio de la cafetería en 5 días fue de: 2605.5741357234315\n"
     ]
    }
   ],
   "source": [
    "print('1. Los gastos de los hombres en 5 días de trabajo fue de:', sum(list(map(lambda x: x[2],sim5dias))))\n",
    "print('   y el de las mujeres de:', sum(list(map(lambda x: x[3],sim5dias))))\n",
    "print('2. El consumo promedio de los hombres fue de:', sum(list(map(lambda x: x[2],sim5dias))) / (sum(list(map(lambda x: x[1],sim5dias)))))\n",
    "print('   y el de las mujeres de:', sum(list(map(lambda x: x[3],sim5dias)))/ (sum(list(map(lambda x: x[0],sim5dias)))))\n",
    "print('3. El número de personas atendidas en un dia es de:', sum(list(map(lambda x: x[0] + x[1] ,sim5dias))) / d)\n",
    "print('4. El tiempo promedio de espra fue de:', np.mean(T_atencion))\n",
    "print('5. La ganancia promedio de la cafetería en 5 días fue de:', np.mean(ganancia))\n",
    "print('   La rentabilidad promedio de la cafetería en 5 días fue de:', np.mean(rentabilidad))\n"
   ]
  },
  {
   "cell_type": "code",
   "execution_count": null,
   "metadata": {},
   "outputs": [],
   "source": []
  }
 ],
 "metadata": {
  "kernelspec": {
   "display_name": "Python 3",
   "language": "python",
   "name": "python3"
  },
  "language_info": {
   "codemirror_mode": {
    "name": "ipython",
    "version": 3
   },
   "file_extension": ".py",
   "mimetype": "text/x-python",
   "name": "python",
   "nbconvert_exporter": "python",
   "pygments_lexer": "ipython3",
   "version": "3.7.4"
  }
 },
 "nbformat": 4,
 "nbformat_minor": 5
}
